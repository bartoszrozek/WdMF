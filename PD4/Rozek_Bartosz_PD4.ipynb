{
 "cells": [
  {
   "cell_type": "code",
   "execution_count": 1,
   "metadata": {
    "ExecuteTime": {
     "end_time": "2021-05-02T20:52:14.740598Z",
     "start_time": "2021-05-02T20:52:13.862305Z"
    }
   },
   "outputs": [],
   "source": [
    "import math\n",
    "import numpy as np"
   ]
  },
  {
   "cell_type": "markdown",
   "metadata": {},
   "source": [
    "- wycena - funkcja generująca wycenę racjonalną na podstawie wzoru rekurencyjnego z polecenia zadania\n",
    "- generuj_ceny - na podstawie *S_0*, *u* i *d* tworzy drzewo z możliwymi cenami\n",
    "- zwroc_wartosc - podając drzewo wycen i omegę w postaci listy z wartościami binarnymi (gdzie 1 odpowiada *u* a 0 odpowiada *d*, np. [1,0,0,1,0] to uddud) otrzymujemy wartość dla konkretnej omegi "
   ]
  },
  {
   "cell_type": "code",
   "execution_count": 2,
   "metadata": {
    "ExecuteTime": {
     "end_time": "2021-05-02T20:52:14.756118Z",
     "start_time": "2021-05-02T20:52:14.744483Z"
    }
   },
   "outputs": [],
   "source": [
    "class CRR:\n",
    "    def __init__(self, d, u, r):\n",
    "        self.d = d\n",
    "        self.u = u\n",
    "        self.r = r\n",
    "    \n",
    "    def wycena (self,X):\n",
    "        T = int(math.log(len(X),2))\n",
    "        p_mart = (1+self.r-self.d)/(self.u-self.d)\n",
    "        cena_r = [None for i in range (T+1)]\n",
    "        cena_r[T] = X\n",
    "        for p in range(T-1,-1,-1):\n",
    "            cena_r[p] = [(p_mart*cena_r[p+1][i+1]+(1-p_mart)*cena_r[p+1][i])/(1+self.r) for i in range(0,len(cena_r[p+1])-1,2)]\n",
    "        return cena_r\n",
    "    \n",
    "    def generuj_ceny (self,t, S_0):\n",
    "        S = [None for i in range(t+1)]\n",
    "        S[0] = [S_0]\n",
    "        for i in range(1,t+1):\n",
    "            S[i] = [f(s) for s in S[i-1] for f in (lambda x: x*self.d, lambda x: x*self.u)]\n",
    "        return S\n",
    "    \n",
    "    def zwroc_wartosc(self,tree,omega):\n",
    "        k = sum([bit * 2**n for n,bit in enumerate(reversed(omega))])\n",
    "        t = len(omega)\n",
    "        return(tree[t][k])\n",
    "    "
   ]
  },
  {
   "cell_type": "markdown",
   "metadata": {},
   "source": [
    "# Pdpkt B)"
   ]
  },
  {
   "cell_type": "markdown",
   "metadata": {},
   "source": [
    "Funkcja implementująca wzór z zadania, jako argumenty przyjmuje T i tworzy listę dla kolejnych t, rynek, strike, oraz informację, czy wyceniamy opcję *call* czy *put* "
   ]
  },
  {
   "cell_type": "code",
   "execution_count": 3,
   "metadata": {
    "ExecuteTime": {
     "end_time": "2021-05-02T20:52:15.327458Z",
     "start_time": "2021-05-02T20:52:15.315531Z"
    }
   },
   "outputs": [],
   "source": [
    "def Teoretyczne(T, crr,S_0, K, opcja):\n",
    "    if opcja == \"call\":\n",
    "        flag = 1\n",
    "    else:\n",
    "        flag = -1\n",
    "    p_mart = (1+crr.r-crr.d)/(crr.u-crr.d)\n",
    "    val = np.array([None for i in range(T+1)])\n",
    "    S = crr.generuj_ceny(T, S_0)\n",
    "    \n",
    "    for t in range (T+1):\n",
    "        s = np.array(S[T-t])\n",
    "        val[T-t] = sum([math.comb(t,j)*p_mart**j*(1-p_mart)**(t-j)*np.maximum(flag*(s*crr.u**j*crr.d**(t-j)-K),0) for j in range(t+1)])/(1+crr.r)**t  \n",
    "    \n",
    "    return val"
   ]
  },
  {
   "cell_type": "code",
   "execution_count": 4,
   "metadata": {
    "ExecuteTime": {
     "end_time": "2021-05-02T20:52:15.578220Z",
     "start_time": "2021-05-02T20:52:15.571967Z"
    }
   },
   "outputs": [],
   "source": [
    "S_0 = 100\n",
    "u = 1.3\n",
    "d = 0.8\n",
    "r = 0.1\n",
    "T = 10\n",
    "K = 90"
   ]
  },
  {
   "cell_type": "markdown",
   "metadata": {},
   "source": [
    "## Opcja call"
   ]
  },
  {
   "cell_type": "code",
   "execution_count": 5,
   "metadata": {
    "ExecuteTime": {
     "end_time": "2021-05-02T20:52:16.161141Z",
     "start_time": "2021-05-02T20:52:16.109164Z"
    }
   },
   "outputs": [],
   "source": [
    "crr = CRR(d, u, r)\n",
    "S = crr.generuj_ceny(T, S_0)\n",
    "C = [np.maximum(np.array(s) - K,0) for s in S]"
   ]
  },
  {
   "cell_type": "code",
   "execution_count": 6,
   "metadata": {
    "ExecuteTime": {
     "end_time": "2021-05-02T20:52:16.377328Z",
     "start_time": "2021-05-02T20:52:16.364612Z"
    },
    "scrolled": true
   },
   "outputs": [],
   "source": [
    "wycena_model = crr.wycena(C[-1])\n",
    "wycena_teoretyczna = Teoretyczne(10,crr,S_0,90, \"call\")"
   ]
  },
  {
   "cell_type": "code",
   "execution_count": 7,
   "metadata": {
    "ExecuteTime": {
     "end_time": "2021-05-02T20:52:16.623778Z",
     "start_time": "2021-05-02T20:52:16.601795Z"
    }
   },
   "outputs": [
    {
     "data": {
      "text/plain": [
       "5.244027434514464e-12"
      ]
     },
     "execution_count": 7,
     "metadata": {},
     "output_type": "execute_result"
    }
   ],
   "source": [
    "sum([sum(abs(a-b)) for a,b in zip(wycena_model,wycena_teoretyczna)])"
   ]
  },
  {
   "cell_type": "markdown",
   "metadata": {},
   "source": [
    "Widzimy, że różnica w wycenach wynika jedynie z błędów obliczeń."
   ]
  },
  {
   "cell_type": "markdown",
   "metadata": {},
   "source": [
    "## Opcja call"
   ]
  },
  {
   "cell_type": "code",
   "execution_count": 8,
   "metadata": {
    "ExecuteTime": {
     "end_time": "2021-05-02T20:52:17.406034Z",
     "start_time": "2021-05-02T20:52:17.396806Z"
    }
   },
   "outputs": [],
   "source": [
    "crr = CRR(d, u, r)\n",
    "S = crr.generuj_ceny(T, S_0)\n",
    "C = [np.maximum(K - np.array(s),0) for s in S]"
   ]
  },
  {
   "cell_type": "code",
   "execution_count": 9,
   "metadata": {
    "ExecuteTime": {
     "end_time": "2021-05-02T20:52:17.683317Z",
     "start_time": "2021-05-02T20:52:17.673989Z"
    },
    "scrolled": true
   },
   "outputs": [],
   "source": [
    "wycena_model = crr.wycena(C[-1])\n",
    "wycena_teoretyczna = Teoretyczne(10,crr,S_0, 90, \"put\")"
   ]
  },
  {
   "cell_type": "code",
   "execution_count": 10,
   "metadata": {
    "ExecuteTime": {
     "end_time": "2021-05-02T20:52:17.953473Z",
     "start_time": "2021-05-02T20:52:17.941534Z"
    }
   },
   "outputs": [
    {
     "data": {
      "text/plain": [
       "7.910547217271358e-13"
      ]
     },
     "execution_count": 10,
     "metadata": {},
     "output_type": "execute_result"
    }
   ],
   "source": [
    "sum([sum(abs(a-b)) for a,b in zip(wycena_model,wycena_teoretyczna)])"
   ]
  },
  {
   "cell_type": "markdown",
   "metadata": {},
   "source": [
    "Ponownie, wszystko się zgadza."
   ]
  }
 ],
 "metadata": {
  "kernelspec": {
   "display_name": "Python 3",
   "language": "python",
   "name": "python3"
  },
  "language_info": {
   "codemirror_mode": {
    "name": "ipython",
    "version": 3
   },
   "file_extension": ".py",
   "mimetype": "text/x-python",
   "name": "python",
   "nbconvert_exporter": "python",
   "pygments_lexer": "ipython3",
   "version": "3.8.5"
  }
 },
 "nbformat": 4,
 "nbformat_minor": 4
}
